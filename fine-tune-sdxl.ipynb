{
  "cells": [
    {
      "cell_type": "markdown",
      "metadata": {},
      "source": [
        "[![Open In Colab](https://colab.research.google.com/assets/colab-badge.svg)](https://colab.research.google.com/github/nbiish/fine-tune-sdxl-replicate/blob/main/fine-tune-sdxl.ipynb)"
      ]
    },
    {
      "cell_type": "markdown",
      "metadata": {
        "id": "51L4ynq8qPLR"
      },
      "source": [
        "# SDXL Fine-tuning on Replicate"
      ]
    },
    {
      "cell_type": "code",
      "execution_count": null,
      "metadata": {
        "id": "gLWKQvpeqAHE"
      },
      "outputs": [],
      "source": [
        "!pip install replicate\n",
        "import os\n",
        "import replicate\n",
        "from google.colab import output\n",
        "output.clear()"
      ]
    },
    {
      "cell_type": "markdown",
      "metadata": {
        "id": "iVf3RWPKqKeb"
      },
      "source": [
        "Authenticate by setting your token in an environment variable:"
      ]
    },
    {
      "cell_type": "code",
      "execution_count": null,
      "metadata": {
        "id": "NuZ8DpPcqJ0w"
      },
      "outputs": [],
      "source": [
        "# get your token from https://replicate.com/account\n",
        "from getpass import getpass\n",
        "\n",
        "REPLICATE_API_TOKEN = getpass()\n",
        "os.environ[\"REPLICATE_API_TOKEN\"] = REPLICATE_API_TOKEN"
      ]
    },
    {
      "cell_type": "markdown",
      "metadata": {
        "id": "mNepKK_OquqM"
      },
      "source": [
        "## Prepare your training images\n",
        "\n",
        "The training API expects a zip file containing your training images. A handful of images (5-6) is enough to fine-tune SDXL on a single person, but you might need more if your training subject is more complex or the images are very different. Keep the following guidelines in mind when preparing your images:\n",
        "\n",
        "- Images can be of yourself, your pet, your favorite stuffed animal, or any unique object. For best results, your images should contain only the subject itself, with a minimum of background noise or other objects.\n",
        "- Images can be in JPEG or PNG format.\n",
        "- Dimensions and size don't matter.\n",
        "- Filenames don't matter.\n",
        "- Do not use images of other people without their consent.\n",
        "\n",
        "## Upload you .zip file to this colab and rename it data.zip"
      ]
    },
    {
      "cell_type": "markdown",
      "metadata": {
        "id": "A7MAt8gZq4h1"
      },
      "source": [
        "\n",
        "## Create a model\n",
        "\n",
        "You also need to create a Replicate model that will be the destination for the trained SDXL version. Go to [replicate.com/create](https://replicate.com/create) to create the model. In the example below we call it `my-name/my-model`.\n",
        "\n",
        "You can make your model public or private. If your model is private, only you will be able to run it. If your model is public, anyone will be able to run it, but only you will be able to update it."
      ]
    },
    {
      "cell_type": "markdown",
      "metadata": {
        "id": "jr8j63kFqijO"
      },
      "source": [
        "## Start the training"
      ]
    },
    {
      "cell_type": "code",
      "execution_count": null,
      "metadata": {},
      "outputs": [],
      "source": [
        "import requests\n",
        "import json\n",
        "\n",
        "# Set the API endpoint and headers\n",
        "api_url = \"https://dreambooth-api-experimental.replicate.com/v1/upload/data.zip\"\n",
        "headers = {\"Authorization\": f\"Token {REPLICATE_API_TOKEN}\"}\n",
        "\n",
        "# Send a POST request to upload the data.zip file\n",
        "response = requests.post(api_url, headers=headers)\n",
        "\n",
        "# Get the upload URL and serving URL from the response\n",
        "upload_url = json.loads(response.text)[\"upload_url\"]\n",
        "serving_url = json.loads(response.text)[\"serving_url\"]\n",
        "\n",
        "# Upload the data.zip file using the upload URL\n",
        "with open(\"/content/data.zip\", \"rb\") as file:\n",
        "    upload_response = requests.put(upload_url, data=file, headers={\"Content-Type\": \"application/zip\"})\n",
        "\n",
        "# Print the serving URL\n",
        "print(serving_url)\n"
      ]
    },
    {
      "cell_type": "markdown",
      "metadata": {},
      "source": [
        "### Normal SDXL Training (includes clothing)"
      ]
    },
    {
      "cell_type": "code",
      "execution_count": null,
      "metadata": {
        "id": "0AefVmqxLIjY"
      },
      "outputs": [],
      "source": [
        "import replicate\n",
        "\n",
        "training = replicate.trainings.create(\n",
        "    version=\"stability-ai/sdxl:39ed52f2a78e934b3ba6e2a89f5b1c712de7dfea535525255b1aa35c5565e08b\",\n",
        "    input={\n",
        "        \"input_images\": \"\" #input url from last cell\n",
        "    },\n",
        "    destination=\"\" #yourReplicateName/yourReplicateRepo\n",
        ")"
      ]
    },
    {
      "cell_type": "markdown",
      "metadata": {},
      "source": [
        "### LORA with Facetrain (excludes clothing)"
      ]
    },
    {
      "cell_type": "code",
      "execution_count": null,
      "metadata": {},
      "outputs": [],
      "source": [
        "import replicate\n",
        "\n",
        "training = replicate.trainings.create(\n",
        "    version=\"stability-ai/sdxl:39ed52f2a78e934b3ba6e2a89f5b1c712de7dfea535525255b1aa35c5565e08b\",\n",
        "    input={\n",
        "        \"input_images\": \"\",\n",
        "        \"use_face_detection_instead\": True,\n",
        "    },\n",
        "    destination=\"\"\n",
        ")"
      ]
    },
    {
      "cell_type": "markdown",
      "metadata": {},
      "source": [
        "### SDXL Train Style \n",
        "* speed up the lora learning rate, this stops the training from focusing too closely on the details. Experiment with different values like 1e-4, 2e-4. Our Barbie fine-tune used 4e-4.\n",
        "\n",
        "* use a different caption_prefix to refer to a style"
      ]
    },
    {
      "cell_type": "code",
      "execution_count": null,
      "metadata": {},
      "outputs": [],
      "source": [
        "import replicate\n",
        "\n",
        "training = replicate.trainings.create(\n",
        "    version=\"stability-ai/sdxl:39ed52f2a78e934b3ba6e2a89f5b1c712de7dfea535525255b1aa35c5565e08b\",\n",
        "    input={\n",
        "        \"input_images\": \"https://my-domain/style-images.zip\",\n",
        "        \"lora_lr\": 2e-4,\n",
        "        \"caption_prefix\": 'In the style of TOK,',\n",
        "    },\n",
        "    destination=\"\"\n",
        ")"
      ]
    },
    {
      "cell_type": "markdown",
      "metadata": {
        "id": "HGiaTo2frZ8I"
      },
      "source": [
        "## Monitor training progress\n",
        "\n",
        "To follow the progress of the training job, visit [replicate.com/trainings](https://replicate.com/trainings) or inspect the training programmatically:"
      ]
    },
    {
      "cell_type": "code",
      "execution_count": null,
      "metadata": {
        "id": "YkRQwY-AtNu2"
      },
      "outputs": [],
      "source": [
        "training.reload()\n",
        "print(training.status)\n",
        "if training.status == 'processing':\n",
        "  print(\"\\n\".join(training.logs.split(\"\\n\")[-10:]))"
      ]
    },
    {
      "cell_type": "markdown",
      "metadata": {
        "id": "5kk3zlqkrl8M"
      },
      "source": [
        "## Run the model\n",
        "\n",
        "When the model has finished training you can run it using the GUI on replicate.com/my-name/my-model, or via the API:\n"
      ]
    },
    {
      "cell_type": "code",
      "execution_count": null,
      "metadata": {
        "id": "D5RVsCNPro1X"
      },
      "outputs": [],
      "source": [
        "output = replicate.run(\n",
        "    destination_repo,\n",
        "    input={\"prompt\": \"a photo of TOK riding a rainbow unicorn\"},\n",
        ")"
      ]
    },
    {
      "cell_type": "markdown",
      "metadata": {
        "id": "grJ6P-xFrs9K"
      },
      "source": [
        "The trained concept is named `TOK` by default, but you can change that by setting `token_string` and `caption_prefix` inputs during the training process."
      ]
    }
  ],
  "metadata": {
    "colab": {
      "provenance": []
    },
    "kernelspec": {
      "display_name": "Python 3",
      "name": "python3"
    },
    "language_info": {
      "name": "python"
    }
  },
  "nbformat": 4,
  "nbformat_minor": 0
}
